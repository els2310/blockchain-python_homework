{
 "cells": [
  {
   "cell_type": "code",
   "execution_count": 2,
   "metadata": {},
   "outputs": [
    {
     "data": {
      "text/plain": [
       "True"
      ]
     },
     "execution_count": 2,
     "metadata": {},
     "output_type": "execute_result"
    }
   ],
   "source": [
    "# import libraries\n",
    "import subprocess\n",
    "import json\n",
    "import os\n",
    "from constants import *\n",
    "from dotenv import load_dotenv\n",
    "from web3 import Web3\n",
    "from eth_account import Account\n",
    "from bit import PrivateKeyTestnet\n",
    "from bit.network import NetworkAPI\n",
    "from web3.middleware import geth_poa_middleware\n",
    "from web3.gas_strategies.time_based import medium_gas_price_strategy\n",
    "\n",
    "load_dotenv()"
   ]
  },
  {
   "cell_type": "code",
   "execution_count": 3,
   "metadata": {},
   "outputs": [
    {
     "name": "stdout",
     "output_type": "stream",
     "text": [
      "127\n",
      "cave wisdom brand toe frame seminar torch hockey tooth world crowd scene\n"
     ]
    }
   ],
   "source": [
    "# import mnemonic from env\n",
    "filepath=\"env.bat\"\n",
    "p = subprocess.Popen(filepath, shell=True, stdout = subprocess.PIPE)\n",
    "\n",
    "stdout, stderr = p.communicate()\n",
    "print (p.returncode) # is 0 if success\n",
    "mnemonic = os.getenv('MNEMONIC')\n",
    "print(mnemonic)"
   ]
  },
  {
   "cell_type": "code",
   "execution_count": 93,
   "metadata": {},
   "outputs": [],
   "source": [
    "# connect to local ETH/ geth\n",
    "w3 = Web3(Web3.HTTPProvider(\"http://127.0.0.1:8545\"))\n",
    "w3.middleware_onion.inject(geth_poa_middleware, layer=0)\n",
    "w3.eth.setGasPriceStrategy(medium_gas_price_strategy)\n"
   ]
  },
  {
   "cell_type": "code",
   "execution_count": 5,
   "metadata": {},
   "outputs": [],
   "source": [
    "# Define function to derive wallet\n",
    "def derive_wallets(mnemonic, coin, numderive):\n",
    "    \"\"\"Use the subprocess library to call the php file script from Python\"\"\"\n",
    "    command = f'php ./hd-wallet-derive/hd-wallet-derive.php -g --mnemonic=\"{mnemonic}\" --numderive=\"{numderive}\" --coin=\"{coin}\" --format=json' \n",
    "    \n",
    "    p = subprocess.Popen(command, stdout=subprocess.PIPE, shell=True)\n",
    "    (output, err) = p.communicate()\n",
    "   \n",
    "    keys = json.loads(output)\n",
    "    return  keys"
   ]
  },
  {
   "cell_type": "code",
   "execution_count": 6,
   "metadata": {},
   "outputs": [
    {
     "data": {
      "text/plain": [
       "[{'path': \"m/44'/0'/0'/0/0\",\n",
       "  'address': '1K9mkTWfzbs465Hs4TMrhmtjAZGNUcPam7',\n",
       "  'xprv': 'xprvA2qqk2rU1q9kr3fXAK8R853rPqa33PQ1Y2Y1RxWEbJNHdvhka8qZQaNrrP1u9ooWh4vcLy9chdjjJdUFbW1aWEFS6KTjQKXZNH3LuHxA39v',\n",
       "  'xpub': 'xpub6FqC9YPMrCi44XjzGLfRVCzawsQXSr7ruFTcELur9duGWj2u7g9oxNhLhd6bMFkhBTBvGxa9oPQHiwuKL6fDDg6qcaYA6K2NHqSyCbErVuU',\n",
       "  'privkey': 'L2JjEn54iXruxa2zvnqSeZG93KtM9RcMSZBvzTZbdEzZTjeCp4Ts',\n",
       "  'pubkey': '021ab7d688fd4d613e831c0ecf1a5d463325a223965561e57b261dac24a06f2a23',\n",
       "  'pubkeyhash': 'c71af2549d697ac3bc40755bbc9479655a2002c1',\n",
       "  'index': 0},\n",
       " {'path': \"m/44'/0'/0'/0/1\",\n",
       "  'address': '15YUXzR7hNeR3b5dSMvDeyG2meF4zCWU6j',\n",
       "  'xprv': 'xprvA2qqk2rU1q9kuaYgQMZsNVi6EgDq8i5RuEYPNMVtAkq6jiyQ9iSHdBuDFZuS6xD8tGvCNPFm6C8WwmXrQiYxg8wbQDRFGysQNmhKz3FeUTS',\n",
       "  'xpub': 'xpub6FqC9YPMrCi484d9WP6sjdepni4KYAoHGTTzAjuVj6N5cXJYhFkYAzDh6t1ad9Fo29yaSjecdSiw5AuMXmvKX8gcvKzTQXuzfbBxgxKyTcw',\n",
       "  'privkey': 'KzJWixFfbfQELytstcPiUcYFme8D3SCUZLRmFgDkPZmALt5uFDpp',\n",
       "  'pubkey': '03f10491aa57e37f534c466ccebb18fef44bfe8808a8cd77d5edd640fcfb75528a',\n",
       "  'pubkeyhash': '31d461e73723de9079be8696b5b95eba1f448775',\n",
       "  'index': 1},\n",
       " {'path': \"m/44'/0'/0'/0/2\",\n",
       "  'address': '1M7pYFZAfiiVLKUoKXyx6dn23ZraaqYSYL',\n",
       "  'xprv': 'xprvA2qqk2rU1q9kwfWotmNPguBYVikMSaGzacqh42UFBXDuU8X758dPuDCEoTPtheAagBmZWo1UTfW3HNBtNHDUUmX18QSBxRuv8suXTZeSKsv',\n",
       "  'xpub': 'xpub6FqC9YPMrCi4A9bGznuQ438H3kaqr2zqwqmHrQsrjrktLvrFcfweT1WiejFhkjuQuLcpdKUgT5u39JgijccKSJfBMRWwZUuYVNghUptDcLv',\n",
       "  'privkey': 'L5eYNJPfFeAWRZKa5Xz1ZBkLU8Qi1uMbD4bf1pdmvjuqwYAtoGEZ',\n",
       "  'pubkey': '036890adffeffb65a4a0d1931e2f128f055fd0ac480b5ab7ac27734e0e783b57ff',\n",
       "  'pubkeyhash': 'dcacb1e16b6034cffc8f26f1a6af1e1401e93ef9',\n",
       "  'index': 2}]"
      ]
     },
     "execution_count": 6,
     "metadata": {},
     "output_type": "execute_result"
    }
   ],
   "source": [
    "# Test the function derive_wallets\n",
    "derive_wallets(mnemonic, 'BTC', 3)"
   ]
  },
  {
   "cell_type": "code",
   "execution_count": 7,
   "metadata": {},
   "outputs": [],
   "source": [
    "#Setting dictionary of coins to be used in the wallet\n",
    "coins = {\"eth\", \"btc-test\", \"btc\"}\n",
    "numderive = 3"
   ]
  },
  {
   "cell_type": "code",
   "execution_count": 8,
   "metadata": {},
   "outputs": [],
   "source": [
    "keys = {}\n",
    "for coin in coins:\n",
    "    keys[coin]= derive_wallets(mnemonic, coin, numderive=3)\n"
   ]
  },
  {
   "cell_type": "code",
   "execution_count": 21,
   "metadata": {},
   "outputs": [
    {
     "name": "stdout",
     "output_type": "stream",
     "text": [
      "\"0x18e6d368f6d01171d94197d32832b0706827340d188097dc008999bf88bcbc7b\"\n",
      "\"cPM3FZp75oqXCP8hAzCBQqFuk4FMmQbZ5LPXi2MRotQ7Bow5ha1C\"\n"
     ]
    }
   ],
   "source": [
    "eth_PrivateKey = keys[\"eth\"][0]['privkey']\n",
    "btc_PrivateKey = keys['btc-test'][0]['privkey']\n",
    "\n",
    "print(json.dumps(eth_PrivateKey, indent=4, sort_keys=True))\n",
    "print(json.dumps(btc_PrivateKey, indent=4, sort_keys=True))\n"
   ]
  },
  {
   "cell_type": "code",
   "execution_count": 12,
   "metadata": {},
   "outputs": [
    {
     "name": "stdout",
     "output_type": "stream",
     "text": [
      "{\n",
      "    \"btc\": [\n",
      "        {\n",
      "            \"address\": \"1K9mkTWfzbs465Hs4TMrhmtjAZGNUcPam7\",\n",
      "            \"index\": 0,\n",
      "            \"path\": \"m/44'/0'/0'/0/0\",\n",
      "            \"privkey\": \"L2JjEn54iXruxa2zvnqSeZG93KtM9RcMSZBvzTZbdEzZTjeCp4Ts\",\n",
      "            \"pubkey\": \"021ab7d688fd4d613e831c0ecf1a5d463325a223965561e57b261dac24a06f2a23\",\n",
      "            \"pubkeyhash\": \"c71af2549d697ac3bc40755bbc9479655a2002c1\",\n",
      "            \"xprv\": \"xprvA2qqk2rU1q9kr3fXAK8R853rPqa33PQ1Y2Y1RxWEbJNHdvhka8qZQaNrrP1u9ooWh4vcLy9chdjjJdUFbW1aWEFS6KTjQKXZNH3LuHxA39v\",\n",
      "            \"xpub\": \"xpub6FqC9YPMrCi44XjzGLfRVCzawsQXSr7ruFTcELur9duGWj2u7g9oxNhLhd6bMFkhBTBvGxa9oPQHiwuKL6fDDg6qcaYA6K2NHqSyCbErVuU\"\n",
      "        },\n",
      "        {\n",
      "            \"address\": \"15YUXzR7hNeR3b5dSMvDeyG2meF4zCWU6j\",\n",
      "            \"index\": 1,\n",
      "            \"path\": \"m/44'/0'/0'/0/1\",\n",
      "            \"privkey\": \"KzJWixFfbfQELytstcPiUcYFme8D3SCUZLRmFgDkPZmALt5uFDpp\",\n",
      "            \"pubkey\": \"03f10491aa57e37f534c466ccebb18fef44bfe8808a8cd77d5edd640fcfb75528a\",\n",
      "            \"pubkeyhash\": \"31d461e73723de9079be8696b5b95eba1f448775\",\n",
      "            \"xprv\": \"xprvA2qqk2rU1q9kuaYgQMZsNVi6EgDq8i5RuEYPNMVtAkq6jiyQ9iSHdBuDFZuS6xD8tGvCNPFm6C8WwmXrQiYxg8wbQDRFGysQNmhKz3FeUTS\",\n",
      "            \"xpub\": \"xpub6FqC9YPMrCi484d9WP6sjdepni4KYAoHGTTzAjuVj6N5cXJYhFkYAzDh6t1ad9Fo29yaSjecdSiw5AuMXmvKX8gcvKzTQXuzfbBxgxKyTcw\"\n",
      "        },\n",
      "        {\n",
      "            \"address\": \"1M7pYFZAfiiVLKUoKXyx6dn23ZraaqYSYL\",\n",
      "            \"index\": 2,\n",
      "            \"path\": \"m/44'/0'/0'/0/2\",\n",
      "            \"privkey\": \"L5eYNJPfFeAWRZKa5Xz1ZBkLU8Qi1uMbD4bf1pdmvjuqwYAtoGEZ\",\n",
      "            \"pubkey\": \"036890adffeffb65a4a0d1931e2f128f055fd0ac480b5ab7ac27734e0e783b57ff\",\n",
      "            \"pubkeyhash\": \"dcacb1e16b6034cffc8f26f1a6af1e1401e93ef9\",\n",
      "            \"xprv\": \"xprvA2qqk2rU1q9kwfWotmNPguBYVikMSaGzacqh42UFBXDuU8X758dPuDCEoTPtheAagBmZWo1UTfW3HNBtNHDUUmX18QSBxRuv8suXTZeSKsv\",\n",
      "            \"xpub\": \"xpub6FqC9YPMrCi4A9bGznuQ438H3kaqr2zqwqmHrQsrjrktLvrFcfweT1WiejFhkjuQuLcpdKUgT5u39JgijccKSJfBMRWwZUuYVNghUptDcLv\"\n",
      "        }\n",
      "    ],\n",
      "    \"btc-test\": [\n",
      "        {\n",
      "            \"address\": \"mzjd7svChZ8YFhW69JpvmU4rrcJvvptms4\",\n",
      "            \"index\": 0,\n",
      "            \"path\": \"m/44'/1'/0'/0/0\",\n",
      "            \"privkey\": \"cPM3FZp75oqXCP8hAzCBQqFuk4FMmQbZ5LPXi2MRotQ7Bow5ha1C\",\n",
      "            \"pubkey\": \"02342ca33bf44f53ee751becb13c0b4a12299cdc6089e76b128e38b0facc15c864\",\n",
      "            \"pubkeyhash\": \"d2cfca6144ab3ad93117e83975c9233b58fe1445\",\n",
      "            \"xprv\": \"tprv8kgobQaRxbnfFRGcNJRSjpbFWSNFkDxb71WcnrDFsfjxZoLxStpwvzzxUHftb3KeXtDuxXyHi8psES3AwQdUrfY3aYsD5TANM3BVL2ET2je\",\n",
      "            \"xpub\": \"tpubDHNqjpcg6yUL8tJQFx639EFN5TtBuZ9VgK7Q5NFZHwYMQHbj5HeY7VcpeQcaVGmoiZz71fBhuH3mPJ2A8LpZEHxHmqouBoGnkjVnwi5NuwF\"\n",
      "        },\n",
      "        {\n",
      "            \"address\": \"n3LpAUsotVZVs3MTz17ynSAtkKwGvsRygj\",\n",
      "            \"index\": 1,\n",
      "            \"path\": \"m/44'/1'/0'/0/1\",\n",
      "            \"privkey\": \"cTvw6JQuN37jQHKbwjkNR4r1RfmznWBPro6wWBQNnfH8TzgGAJTR\",\n",
      "            \"pubkey\": \"0309c20b3302a3a9aa6f51a4ab1f0e36d33b6d4998c0a44bac1c0eb4d3fe4d5925\",\n",
      "            \"pubkeyhash\": \"ef67d21123be70e509768f8ea42952d226feba8d\",\n",
      "            \"xprv\": \"tprv8kgobQaRxbnfJijJZxGp9MiMcWZxxpxEFiokPZ8m46M6TRwaWb4NDLxNKW7LM9cgMGRRCh1p7fGJdLUGXprVU4D2mMXUr9Knhv9KihSCAjk\",\n",
      "            \"xpub\": \"tpubDHNqjpcg6yULCBm6TbwQYmNUBY5u8A98q2QXg5B4UN9VHvCM8ysxPqaEVddqwkzD2SxTEXnGg4wpfxzYmyJJ7Ycfdn5e3Q6VRAtX3RwFRpM\"\n",
      "        },\n",
      "        {\n",
      "            \"address\": \"moUd9sMNuhnzayAFTauTAuMANbQK3nutRX\",\n",
      "            \"index\": 2,\n",
      "            \"path\": \"m/44'/1'/0'/0/2\",\n",
      "            \"privkey\": \"cMoPTZGsozVtmo7jhWjWbnf3Q5jFydyVC3Q6vfNhjBWBzDmYkJ2c\",\n",
      "            \"pubkey\": \"038d435213c9129e79a49ef044765c926bd182beb2ced59dd957b5bf8b0385c1bb\",\n",
      "            \"pubkeyhash\": \"57503236673a33b44ad0f51bb9df23bbfed7ed0e\",\n",
      "            \"xprv\": \"tprv8kgobQaRxbnfM93imUjBnT6VgA74PutzBfHsog7j7nBCA23mDPPNanF8VCaJRbRQGNRq7AQ73vBaNvXMZP43BBUcDJE7CNwywkFRTsBgvPv\",\n",
      "            \"xpub\": \"tpubDHNqjpcg6yULEc5Wf8PnBrkcFBczZF5tkxtf6CA2Y3yazWJXqnCxmGrzfNVHEE1EYTavrnVJ4mGcbB7j3yoR2rTUMTKFiekK9xyUWXXCLEs\"\n",
      "        }\n",
      "    ],\n",
      "    \"eth\": [\n",
      "        {\n",
      "            \"address\": \"0x2E9df8aA5317358de7d76E4a56518a787a9aee33\",\n",
      "            \"index\": 0,\n",
      "            \"path\": \"m/44'/60'/0'/0/0\",\n",
      "            \"privkey\": \"0x18e6d368f6d01171d94197d32832b0706827340d188097dc008999bf88bcbc7b\",\n",
      "            \"pubkey\": \"02a2986651f838b2f20802ebbd95d3a0a8b14b8d19533ec7a1d45d7823bc91e148\",\n",
      "            \"pubkeyhash\": \"efd58cd7c190469a9be0f25633f08f41e2b5102e\",\n",
      "            \"xprv\": \"xprvA3xXH9ekisEBRG2HwsP7ff6EuDg9ZCgjQNFG3yVxbf5mxqymFDP2XVXCmkgMzLwp1BZvjZE8Z6gVJMtGesEjm3hXwRMzREws1iSvPXsh7Yd\",\n",
      "            \"xpub\": \"xpub6GwsgfBeZEnUdk6m3tv82o2yTFWdxfQambArrMua9zckqeJunkhH5Hqgd2kmdYszWMqoxPWaaoYD9vSFR3RCZKADWNpUBioiyo5BVwH3T4z\"\n",
      "        },\n",
      "        {\n",
      "            \"address\": \"0x7d8118D03D646652e6C1fd6CF45257de27b1Cc0D\",\n",
      "            \"index\": 1,\n",
      "            \"path\": \"m/44'/60'/0'/0/1\",\n",
      "            \"privkey\": \"0x2bdf8df5f5eb1727924a1a1bb1e854808233942613b2719d6625286b4e826c3b\",\n",
      "            \"pubkey\": \"035c7c821db35068bdfbddce77dc11caf6f9cac23250e98b6ba8c921e0892b9229\",\n",
      "            \"pubkeyhash\": \"1c50a16ec4a6bab8fcafccfd92226f62db48762a\",\n",
      "            \"xprv\": \"xprvA3xXH9ekisEBTLKooZxTwcNMiEJ5jgrNodAiyFNkUJ4gomkXNJzdFsmqxvLfMqM8aoXWwaSrvCoZVa8JgvDTCpM3DDSXBTvdKaVcGRLGfj8\",\n",
      "            \"xpub\": \"xpub6GwsgfBeZEnUfpQGubVUJkK6GG8a99aEAr6KmdnN2dbfga5furJsog6KpDgajaPtXd74JmcusHcAZTJHZe8tfMbaRuaijY8xWkdy6DwVVmr\"\n",
      "        },\n",
      "        {\n",
      "            \"address\": \"0xaDD273B7b0961A2c8527F936F9DC564597E220B0\",\n",
      "            \"index\": 2,\n",
      "            \"path\": \"m/44'/60'/0'/0/2\",\n",
      "            \"privkey\": \"0xa1e57497902a7463ed32160f906d534041aeea7b8ae1b42363e8570c486aa540\",\n",
      "            \"pubkey\": \"0205ba45c25f76dbabbf9bd899b960a4a621d84db88e52d4df8fe58466f883498a\",\n",
      "            \"pubkeyhash\": \"31850875fd6cf0920730c6bc3c2cbc71d762d35a\",\n",
      "            \"xprv\": \"xprvA3xXH9ekisEBW4wvKZeAs5zonjHRKdZwZbAvwyjLn7YohhGdtv1xSxa2EjFzgNpuet2EqoUe9kPZACiJDjFBVUPX8r8n5fXAGUNYmSNh57A\",\n",
      "            \"xpub\": \"xpub6GwsgfBeZEnUiZ2PRbBBEDwYLm7uj6Hnvp6XkN8xLT5naVbnSTLCzktW5y6z16A5v2KKqECg2VRgfsq3hX3nifTpvwXqu5zc8ywi2WTiLBp\"\n",
      "        }\n",
      "    ]\n",
      "}\n"
     ]
    }
   ],
   "source": [
    "print(json.dumps(keys, indent=4, sort_keys=True))"
   ]
  },
  {
   "cell_type": "code",
   "execution_count": 14,
   "metadata": {},
   "outputs": [],
   "source": [
    "# create a function that convert the privkey string in a child key to an account object.\n",
    "def priv_key_to_account(coin,priv_key):\n",
    "    print(coin)\n",
    "    print(priv_key)\n",
    "    if coin == ETH:\n",
    "        return Account.privateKeyToAccount(priv_key)\n",
    "    elif coin == BTCTEST:\n",
    "        return PrivateKeyTestnet(priv_key)"
   ]
  },
  {
   "cell_type": "code",
   "execution_count": 15,
   "metadata": {},
   "outputs": [],
   "source": [
    "def create_tx(coin,account, recipient, amount):\n",
    "    if coin == ETH: \n",
    "        gasEstimate = w3.eth.estimateGas(\n",
    "            {\"from\":eth_acc.address, \"to\":recipient, \"value\": amount}\n",
    "        )\n",
    "        return { \n",
    "            \"from\": eth_acc.address,\n",
    "            \"to\": recipient,\n",
    "            \"value\": amount,\n",
    "            \"gasPrice\": w3.eth.gasPrice,\n",
    "            \"gas\": gasEstimate,\n",
    "            \"nonce\": w3.eth.getTransactionCount(eth_acc.address)\n",
    "        }\n",
    "    \n",
    "    elif coin == BTCTEST:\n",
    "        return PrivateKeyTestnet.prepare_transaction(account.address, [(recipient, amount, BTC)])\n"
   ]
  },
  {
   "cell_type": "code",
   "execution_count": 17,
   "metadata": {},
   "outputs": [],
   "source": [
    "# create a function to send txn\n",
    "def send_txn(coin,account,recipient, amount):\n",
    "    txn = create_tx(coin, account, recipient, amount)\n",
    "    if coin == ETH:\n",
    "        signed_txn = eth_acc.sign_transaction(txn)\n",
    "        result = w3.eth.sendRawTransaction(signed_txn.rawTransaction)\n",
    "        print(result.hex())\n",
    "        return result.hex()\n",
    "    elif coin == BTCTEST:\n",
    "        tx_btctest = create_tx(coin, account, recipient, amount)\n",
    "        signed_txn = account.sign_transaction(txn)\n",
    "        print(signed_txn)\n",
    "        return NetworkAPI.broadcast_tx_testnet(signed_txn)\n"
   ]
  },
  {
   "cell_type": "markdown",
   "metadata": {},
   "source": [
    "# BTCTEST Transactions"
   ]
  },
  {
   "cell_type": "code",
   "execution_count": 25,
   "metadata": {},
   "outputs": [
    {
     "name": "stdout",
     "output_type": "stream",
     "text": [
      "btc-test\n",
      "cPM3FZp75oqXCP8hAzCBQqFuk4FMmQbZ5LPXi2MRotQ7Bow5ha1C\n"
     ]
    }
   ],
   "source": [
    "# BTC-TEST Transactions\n",
    "btc_acc = priv_key_to_account(BTCTEST,btc_PrivateKey)\n"
   ]
  },
  {
   "cell_type": "code",
   "execution_count": 22,
   "metadata": {},
   "outputs": [
    {
     "data": {
      "text/plain": [
       "'{\"unspents\":[{\"amount\":100000,\"confirmations\":515,\"script\":\"76a914d2cfca6144ab3ad93117e83975c9233b58fe144588ac\",\"txid\":\"c5a5471a9dabb3996e65882435d2ab8deb1ef9c6958117888475994b69967024\",\"txindex\":1,\"type\":\"p2pkh\",\"vsize\":148,\"segwit\":false,\"sequence\":4294967295},{\"amount\":100000,\"confirmations\":515,\"script\":\"76a914d2cfca6144ab3ad93117e83975c9233b58fe144588ac\",\"txid\":\"dc2b67eea70afa9f5d1556a973e922202b78bb62d1e524a1dbb07b2fef01a2e4\",\"txindex\":0,\"type\":\"p2pkh\",\"vsize\":148,\"segwit\":false,\"sequence\":4294967295},{\"amount\":100000,\"confirmations\":516,\"script\":\"76a914d2cfca6144ab3ad93117e83975c9233b58fe144588ac\",\"txid\":\"0ff327413b8af2c6e0235fce6e7217a6c0c71285459f886abe20034674163c19\",\"txindex\":1,\"type\":\"p2pkh\",\"vsize\":148,\"segwit\":false,\"sequence\":4294967295},{\"amount\":100000,\"confirmations\":515,\"script\":\"76a914d2cfca6144ab3ad93117e83975c9233b58fe144588ac\",\"txid\":\"b44adb453617b9b86273e35d1ec489b8eb4f7b5d192038140f6493d022086675\",\"txindex\":1,\"type\":\"p2pkh\",\"vsize\":148,\"segwit\":false,\"sequence\":4294967295},{\"amount\":100000,\"confirmations\":516,\"script\":\"76a914d2cfca6144ab3ad93117e83975c9233b58fe144588ac\",\"txid\":\"cce0158ee8033550dee88adfd58f8cbb92373c9a2dd48fefab43ccf6674724ad\",\"txindex\":0,\"type\":\"p2pkh\",\"vsize\":148,\"segwit\":false,\"sequence\":4294967295},{\"amount\":100000,\"confirmations\":515,\"script\":\"76a914d2cfca6144ab3ad93117e83975c9233b58fe144588ac\",\"txid\":\"26f883afa62654bcb97c2d49676d793b3201b137f065e55bf4d2d41c27a7ea14\",\"txindex\":1,\"type\":\"p2pkh\",\"vsize\":148,\"segwit\":false,\"sequence\":4294967295}],\"outputs\":[[\"n3LpAUsotVZVs3MTz17ynSAtkKwGvsRygj\",150000],[\"mzjd7svChZ8YFhW69JpvmU4rrcJvvptms4\",351468]]}'"
      ]
     },
     "execution_count": 22,
     "metadata": {},
     "output_type": "execute_result"
    }
   ],
   "source": [
    "# create BTC transaction\n",
    "create_tx(BTCTEST,btc_acc,\"n3LpAUsotVZVs3MTz17ynSAtkKwGvsRygj\", 0.0015)"
   ]
  },
  {
   "cell_type": "code",
   "execution_count": 24,
   "metadata": {},
   "outputs": [
    {
     "name": "stdout",
     "output_type": "stream",
     "text": [
      "010000000675660822d093640f143820195d7b4febb889c41e5de37362b8b9173645db4ab4010000006a473044022045d421d8cf80ad37fabcadd8a7cee9037a0d89514039c37f3ecd859954ac78250220568e29161f13b2279540c02592c8c5f4bbe2ab709226ceb1520b418e9dd47c4b012102342ca33bf44f53ee751becb13c0b4a12299cdc6089e76b128e38b0facc15c864ffffffff247096694b99758488178195c6f91eeb8dabd2352488656e99b3ab9d1a47a5c5010000006b483045022100ed470f1568eecdd4037b5bb48957220d0950e6cef68f3f4cf8b00c4a019ae4e302201314e74fbbd7946f8760ccb989f4de907956a523e41a0a637494fb8cea2ba28f012102342ca33bf44f53ee751becb13c0b4a12299cdc6089e76b128e38b0facc15c864ffffffffe4a201ef2f7bb0dba124e5d162bb782b2022e973a956155d9ffa0aa7ee672bdc000000006b483045022100bf915ab87b634fee49b265e7e85b032f24df8e6b6cecf45a1ea35b75edc8440102204f9dec992163e47a30b48b3cfc9a64985503d6db1b9d05e3cf1990d8c720e10d012102342ca33bf44f53ee751becb13c0b4a12299cdc6089e76b128e38b0facc15c864ffffffffad244767f6cc43abef8fd42d9a3c3792bb8c8fd5df8ae8de503503e88e15e0cc000000006a4730440220256edd1fb2d75a82cbe0f01ef6b58925f5efbc74ec4ff38ee335368543498e6a02206c2f6c337c7f6c76a313e796b8f006fc2872c7d636858c822f8ac79fa95ae636012102342ca33bf44f53ee751becb13c0b4a12299cdc6089e76b128e38b0facc15c864ffffffff193c1674460320be6a889f458512c7c0a617726ece5f23e0c6f28a3b4127f30f010000006b483045022100a4db0094492dbe666409a78d50fa1fdfcd5419e3eda1b22a4df5fa9f5fa7911602207be70e972d080e33c69c57e0ec2d5a8ed5fd223b5387ed093fc67ff187a7dc7a012102342ca33bf44f53ee751becb13c0b4a12299cdc6089e76b128e38b0facc15c864ffffffff14eaa7271cd4d2f45be565f037b101323b796d67492d7cb9bc5426a6af83f826010000006a47304402206e1460ac15ff29070f8a9d33d8befecdc9ddbeca9074c10db18096d6eecd7a1902203d8538fa3406d6026fb2a9fc6062ebfd5a9e96f32c762100fbfaf11af9545465012102342ca33bf44f53ee751becb13c0b4a12299cdc6089e76b128e38b0facc15c864ffffffff02f0490200000000001976a914ef67d21123be70e509768f8ea42952d226feba8d88acec5c0500000000001976a914d2cfca6144ab3ad93117e83975c9233b58fe144588ac00000000\n"
     ]
    }
   ],
   "source": [
    "# Send BTC transaction\n",
    "send_txn(BTCTEST,btc_acc,\"n3LpAUsotVZVs3MTz17ynSAtkKwGvsRygj\", 0.0015)"
   ]
  },
  {
   "cell_type": "markdown",
   "metadata": {},
   "source": [
    "# ETH transactions"
   ]
  },
  {
   "cell_type": "markdown",
   "metadata": {},
   "source": [
    "##### Unable to get funds on first account and couldn't complete transactions."
   ]
  },
  {
   "cell_type": "code",
   "execution_count": 46,
   "metadata": {},
   "outputs": [
    {
     "name": "stdout",
     "output_type": "stream",
     "text": [
      "eth\n",
      "0x18e6d368f6d01171d94197d32832b0706827340d188097dc008999bf88bcbc7b\n"
     ]
    }
   ],
   "source": [
    "# Create a function to hold Ethereum \n",
    "eth_acc = priv_key_to_account(ETH, derive_wallets(mnemonic, ETH,5)[0]['privkey'])\n"
   ]
  },
  {
   "cell_type": "code",
   "execution_count": 106,
   "metadata": {},
   "outputs": [],
   "source": [
    "# ETH Transactions\n",
    "#connecting to HTTP with address pk\n",
    "w3 = Web3(Web3.HTTPProvider(\"http://127.0.0.1:8545\"))\n"
   ]
  },
  {
   "cell_type": "code",
   "execution_count": 107,
   "metadata": {},
   "outputs": [
    {
     "data": {
      "text/plain": [
       "True"
      ]
     },
     "execution_count": 107,
     "metadata": {},
     "output_type": "execute_result"
    }
   ],
   "source": [
    "# double check if  I am connected to blockchain. \n",
    "w3.isConnected()\n"
   ]
  },
  {
   "cell_type": "code",
   "execution_count": 111,
   "metadata": {},
   "outputs": [
    {
     "data": {
      "text/plain": [
       "0"
      ]
     },
     "execution_count": 111,
     "metadata": {},
     "output_type": "execute_result"
    }
   ],
   "source": [
    "# ## Check the Balance of the account with local mining blockchain\n",
    "w3.eth.getBalance(\"0x46BbdBf56ff911A93AdaF0164d0709F78B52765E\")\n"
   ]
  },
  {
   "cell_type": "code",
   "execution_count": 109,
   "metadata": {},
   "outputs": [],
   "source": [
    "# Create ETH transaction\n",
    "create_tx(ETH,eth_acc,\"0x7d8118D03D646652e6C1fd6CF45257de27b1Cc0D\", 0.001)\n"
   ]
  },
  {
   "cell_type": "code",
   "execution_count": 110,
   "metadata": {},
   "outputs": [],
   "source": [
    "# Send ETH transaction\n",
    "send_txn(ETH, eth_acc,\"0x7d8118D03D646652e6C1fd6CF45257de27b1Cc0D\", 0.001)\n"
   ]
  }
 ],
 "metadata": {
  "kernelspec": {
   "display_name": "Python 3",
   "language": "python",
   "name": "python3"
  },
  "language_info": {
   "codemirror_mode": {
    "name": "ipython",
    "version": 3
   },
   "file_extension": ".py",
   "mimetype": "text/x-python",
   "name": "python",
   "nbconvert_exporter": "python",
   "pygments_lexer": "ipython3",
   "version": "3.7.9"
  }
 },
 "nbformat": 4,
 "nbformat_minor": 4
}
